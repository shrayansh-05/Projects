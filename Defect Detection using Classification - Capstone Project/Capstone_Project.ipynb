{
  "cells": [
    {
      "cell_type": "markdown",
      "metadata": {
        "id": "4HJOHWLTR1UB"
      },
      "source": [
        "Problem statement: To build a deep learning image segmentation model to correctly identify 4 types of defects on the images. Identifying different types of steel sheet defects is critical to improving the company's and industry's automation, increasing efficiency, and maintaining high quality in production."
      ]
    },
    {
      "cell_type": "markdown",
      "metadata": {
        "id": "cuSntkYPSYHV"
      },
      "source": [
        "### Importing all the important libraries"
      ]
    },
    {
      "cell_type": "code",
      "execution_count": 83,
      "metadata": {
        "colab": {
          "base_uri": "https://localhost:8080/"
        },
        "id": "W64mxwV7klqz",
        "outputId": "b06624b0-3d30-46de-8d62-501fd8645017"
      },
      "outputs": [],
      "source": [
        "# !pip install -q -U keras-tuner"
      ]
    },
    {
      "cell_type": "code",
      "execution_count": 1,
      "metadata": {
        "id": "NpCi_toyRz0O"
      },
      "outputs": [],
      "source": [
        "import pathlib\n",
        "import tensorflow as tf\n",
        "import matplotlib.pyplot as plt\n",
        "import seaborn as sns\n",
        "import numpy as np\n",
        "import pandas as pd\n",
        "import sklearn\n",
        "import os\n",
        "import cv2\n",
        "import keras_tuner as kt\n",
        "import PIL\n",
        "from PIL import Image\n",
        "from tensorflow import keras\n",
        "from keras import layers, models\n",
        "from keras.layers import Conv2D, MaxPooling2D, Flatten, Dense\n",
        "from keras.callbacks import EarlyStopping\n",
        "from keras.models import Sequential\n",
        "from tensorflow.keras.preprocessing.image import ImageDataGenerator\n",
        "from keras.models import Sequential, load_model\n",
        "from sklearn.metrics import classification_report, confusion_matrix, accuracy_score, f1_score, precision_score, recall_score"
      ]
    },
    {
      "cell_type": "code",
      "execution_count": 85,
      "metadata": {
        "colab": {
          "base_uri": "https://localhost:8080/"
        },
        "id": "cpire6uCSm8q",
        "outputId": "b631e046-dbdc-4d9e-dd5c-e3832cc3074e"
      },
      "outputs": [],
      "source": [
        "# from google.colab import drive\n",
        "# drive.mount(-'/content/gdrive')"
      ]
    },
    {
      "cell_type": "markdown",
      "metadata": {
        "id": "kQVO3xJFQHc4"
      },
      "source": [
        "# `EXPLORATORY DATA ANALYSIS`"
      ]
    },
    {
      "cell_type": "markdown",
      "metadata": {
        "id": "Ph2S3mGWTVqR"
      },
      "source": [
        "This assignment uses a dataset of about 6666 images of steel sheet defect types. The dataset contains 4679 images in train, 1308 images in validation, and 679 images in test subdirectories. In each subdirectory they contains their respective CSV files."
      ]
    },
    {
      "cell_type": "code",
      "execution_count": 2,
      "metadata": {
        "id": "TtxTphy7S4g_"
      },
      "outputs": [],
      "source": [
        "# Defining the path for train, validate, and test images\n",
        "\n",
        "data_dir_train = pathlib.Path(\"D:/capstone project/severstal-steel-defect-detection.v1i.multiclass/train\")\n",
        "data_dir_validate = pathlib.Path(\"D:/capstone project/severstal-steel-defect-detection.v1i.multiclass/valid\")\n",
        "data_dir_test = pathlib.Path(\"D:/capstone project/severstal-steel-defect-detection.v1i.multiclass/test\")"
      ]
    },
    {
      "cell_type": "code",
      "execution_count": 3,
      "metadata": {
        "colab": {
          "base_uri": "https://localhost:8080/"
        },
        "id": "bgp552fBYXqI",
        "outputId": "6e6c8893-eb06-4074-8e85-68d2c5765da9"
      },
      "outputs": [
        {
          "name": "stdout",
          "output_type": "stream",
          "text": [
            "Number of images in training CSV: 4679\n",
            "Number of images in validation CSV: 1308\n",
            "Number of images in test CSV: 679\n"
          ]
        }
      ],
      "source": [
        "# paths to your CSV files\n",
        "csv_file_train = \"D:/capstone project/severstal-steel-defect-detection.v1i.multiclass/train/_classes.csv\"\n",
        "csv_file_validate = \"D:/capstone project/severstal-steel-defect-detection.v1i.multiclass/valid/_classes.csv\"\n",
        "csv_file_test = \"D:/capstone project/severstal-steel-defect-detection.v1i.multiclass/test/_classes.csv\"\n",
        "\n",
        "# Read CSV files\n",
        "df_train = pd.read_csv(csv_file_train)\n",
        "df_validate = pd.read_csv(csv_file_validate)\n",
        "df_test = pd.read_csv(csv_file_test)\n",
        "\n",
        "# Count images in training CSV\n",
        "image_count_train = len(df_train)\n",
        "print(\"Number of images in training CSV:\", image_count_train)\n",
        "\n",
        "# Count images in validation CSV\n",
        "image_count_validate = len(df_validate)\n",
        "print(\"Number of images in validation CSV:\", image_count_validate)\n",
        "\n",
        "# Count images in test CSV\n",
        "image_count_test = len(df_test)\n",
        "print(\"Number of images in test CSV:\", image_count_test)\n"
      ]
    },
    {
      "cell_type": "code",
      "execution_count": 4,
      "metadata": {
        "colab": {
          "base_uri": "https://localhost:8080/"
        },
        "id": "DzTcJTc1aQCT",
        "outputId": "e8c23242-0247-449a-d489-e49deb0a20af"
      },
      "outputs": [
        {
          "name": "stdout",
          "output_type": "stream",
          "text": [
            "Shape of Training CSV: (4679, 5)\n",
            "Shape of Validation CSV: (1308, 5)\n",
            "Shape of Test CSV: (679, 5)\n"
          ]
        }
      ],
      "source": [
        "# Print the shape of each CSV file\n",
        "print(\"Shape of Training CSV:\", df_train.shape)\n",
        "print(\"Shape of Validation CSV:\", df_validate.shape)\n",
        "print(\"Shape of Test CSV:\", df_test.shape)"
      ]
    },
    {
      "cell_type": "code",
      "execution_count": 5,
      "metadata": {
        "colab": {
          "base_uri": "https://localhost:8080/",
          "height": 241
        },
        "id": "WZ29TpTcbaEp",
        "outputId": "2a82094e-8add-4180-ccf9-05541893ca1c"
      },
      "outputs": [
        {
          "name": "stdout",
          "output_type": "stream",
          "text": [
            "\n",
            "Top 5 rows of Training CSV:\n"
          ]
        },
        {
          "data": {
            "text/html": [
              "<div>\n",
              "<style scoped>\n",
              "    .dataframe tbody tr th:only-of-type {\n",
              "        vertical-align: middle;\n",
              "    }\n",
              "\n",
              "    .dataframe tbody tr th {\n",
              "        vertical-align: top;\n",
              "    }\n",
              "\n",
              "    .dataframe thead th {\n",
              "        text-align: right;\n",
              "    }\n",
              "</style>\n",
              "<table border=\"1\" class=\"dataframe\">\n",
              "  <thead>\n",
              "    <tr style=\"text-align: right;\">\n",
              "      <th></th>\n",
              "      <th>filename</th>\n",
              "      <th>class-1</th>\n",
              "      <th>class-2</th>\n",
              "      <th>class-3</th>\n",
              "      <th>class-4</th>\n",
              "    </tr>\n",
              "  </thead>\n",
              "  <tbody>\n",
              "    <tr>\n",
              "      <th>0</th>\n",
              "      <td>82b23f53c_jpg.rf.07f70fcc3e9b12b98d966a6b852d3...</td>\n",
              "      <td>0</td>\n",
              "      <td>0</td>\n",
              "      <td>1</td>\n",
              "      <td>0</td>\n",
              "    </tr>\n",
              "    <tr>\n",
              "      <th>1</th>\n",
              "      <td>844a48ae2_jpg.rf.07fe44a03121491ea042c77086120...</td>\n",
              "      <td>0</td>\n",
              "      <td>0</td>\n",
              "      <td>1</td>\n",
              "      <td>0</td>\n",
              "    </tr>\n",
              "    <tr>\n",
              "      <th>2</th>\n",
              "      <td>4cf3b3988_jpg.rf.0832e7076083ce7bebc7d115f9448...</td>\n",
              "      <td>1</td>\n",
              "      <td>0</td>\n",
              "      <td>0</td>\n",
              "      <td>0</td>\n",
              "    </tr>\n",
              "    <tr>\n",
              "      <th>3</th>\n",
              "      <td>a3a66a86a_jpg.rf.0852a027e146a1e1061fb497a528f...</td>\n",
              "      <td>0</td>\n",
              "      <td>0</td>\n",
              "      <td>1</td>\n",
              "      <td>0</td>\n",
              "    </tr>\n",
              "    <tr>\n",
              "      <th>4</th>\n",
              "      <td>30ed4ed02_jpg.rf.0861469ede3819d8fb5a80fc3003a...</td>\n",
              "      <td>0</td>\n",
              "      <td>0</td>\n",
              "      <td>0</td>\n",
              "      <td>1</td>\n",
              "    </tr>\n",
              "  </tbody>\n",
              "</table>\n",
              "</div>"
            ],
            "text/plain": [
              "                                            filename   class-1   class-2  \\\n",
              "0  82b23f53c_jpg.rf.07f70fcc3e9b12b98d966a6b852d3...         0         0   \n",
              "1  844a48ae2_jpg.rf.07fe44a03121491ea042c77086120...         0         0   \n",
              "2  4cf3b3988_jpg.rf.0832e7076083ce7bebc7d115f9448...         1         0   \n",
              "3  a3a66a86a_jpg.rf.0852a027e146a1e1061fb497a528f...         0         0   \n",
              "4  30ed4ed02_jpg.rf.0861469ede3819d8fb5a80fc3003a...         0         0   \n",
              "\n",
              "    class-3   class-4  \n",
              "0         1         0  \n",
              "1         1         0  \n",
              "2         0         0  \n",
              "3         1         0  \n",
              "4         0         1  "
            ]
          },
          "execution_count": 5,
          "metadata": {},
          "output_type": "execute_result"
        }
      ],
      "source": [
        "# Display top 5 rows of train CSV file\n",
        "print(\"\\nTop 5 rows of Training CSV:\")\n",
        "df_train.head()"
      ]
    },
    {
      "cell_type": "code",
      "execution_count": 6,
      "metadata": {
        "colab": {
          "base_uri": "https://localhost:8080/",
          "height": 241
        },
        "id": "x99ytk9ub0Tn",
        "outputId": "dfd28e68-316b-49ad-e468-007f11faf16a"
      },
      "outputs": [
        {
          "name": "stdout",
          "output_type": "stream",
          "text": [
            "\n",
            "Top 5 rows of Validation CSV:\n"
          ]
        },
        {
          "data": {
            "text/html": [
              "<div>\n",
              "<style scoped>\n",
              "    .dataframe tbody tr th:only-of-type {\n",
              "        vertical-align: middle;\n",
              "    }\n",
              "\n",
              "    .dataframe tbody tr th {\n",
              "        vertical-align: top;\n",
              "    }\n",
              "\n",
              "    .dataframe thead th {\n",
              "        text-align: right;\n",
              "    }\n",
              "</style>\n",
              "<table border=\"1\" class=\"dataframe\">\n",
              "  <thead>\n",
              "    <tr style=\"text-align: right;\">\n",
              "      <th></th>\n",
              "      <th>filename</th>\n",
              "      <th>class-1</th>\n",
              "      <th>class-2</th>\n",
              "      <th>class-3</th>\n",
              "      <th>class-4</th>\n",
              "    </tr>\n",
              "  </thead>\n",
              "  <tbody>\n",
              "    <tr>\n",
              "      <th>0</th>\n",
              "      <td>238d6df92_jpg.rf.00921470c2d3e475037e64212585b...</td>\n",
              "      <td>0</td>\n",
              "      <td>0</td>\n",
              "      <td>1</td>\n",
              "      <td>0</td>\n",
              "    </tr>\n",
              "    <tr>\n",
              "      <th>1</th>\n",
              "      <td>fce971b43_jpg.rf.013f3fb6891623a7ccbc776793bda...</td>\n",
              "      <td>0</td>\n",
              "      <td>0</td>\n",
              "      <td>1</td>\n",
              "      <td>0</td>\n",
              "    </tr>\n",
              "    <tr>\n",
              "      <th>2</th>\n",
              "      <td>9ba68fdaa_jpg.rf.01613c2c4724517732466fbf97c03...</td>\n",
              "      <td>0</td>\n",
              "      <td>0</td>\n",
              "      <td>1</td>\n",
              "      <td>0</td>\n",
              "    </tr>\n",
              "    <tr>\n",
              "      <th>3</th>\n",
              "      <td>9753787e9_jpg.rf.01437b831d0a15ecc7bffebeab2b4...</td>\n",
              "      <td>0</td>\n",
              "      <td>0</td>\n",
              "      <td>1</td>\n",
              "      <td>1</td>\n",
              "    </tr>\n",
              "    <tr>\n",
              "      <th>4</th>\n",
              "      <td>6860ae804_jpg.rf.0190318e72cea5be5a234376d5936...</td>\n",
              "      <td>0</td>\n",
              "      <td>0</td>\n",
              "      <td>1</td>\n",
              "      <td>0</td>\n",
              "    </tr>\n",
              "  </tbody>\n",
              "</table>\n",
              "</div>"
            ],
            "text/plain": [
              "                                            filename   class-1   class-2  \\\n",
              "0  238d6df92_jpg.rf.00921470c2d3e475037e64212585b...         0         0   \n",
              "1  fce971b43_jpg.rf.013f3fb6891623a7ccbc776793bda...         0         0   \n",
              "2  9ba68fdaa_jpg.rf.01613c2c4724517732466fbf97c03...         0         0   \n",
              "3  9753787e9_jpg.rf.01437b831d0a15ecc7bffebeab2b4...         0         0   \n",
              "4  6860ae804_jpg.rf.0190318e72cea5be5a234376d5936...         0         0   \n",
              "\n",
              "    class-3   class-4  \n",
              "0         1         0  \n",
              "1         1         0  \n",
              "2         1         0  \n",
              "3         1         1  \n",
              "4         1         0  "
            ]
          },
          "execution_count": 6,
          "metadata": {},
          "output_type": "execute_result"
        }
      ],
      "source": [
        "print(\"\\nTop 5 rows of Validation CSV:\")\n",
        "df_validate.head()"
      ]
    },
    {
      "cell_type": "code",
      "execution_count": 7,
      "metadata": {
        "colab": {
          "base_uri": "https://localhost:8080/",
          "height": 241
        },
        "id": "uvuCkyDgbdIn",
        "outputId": "9858690e-dbd2-476c-d18d-21afa4bccca2"
      },
      "outputs": [
        {
          "name": "stdout",
          "output_type": "stream",
          "text": [
            "\n",
            "Top 5 rows of Test CSV:\n"
          ]
        },
        {
          "data": {
            "text/html": [
              "<div>\n",
              "<style scoped>\n",
              "    .dataframe tbody tr th:only-of-type {\n",
              "        vertical-align: middle;\n",
              "    }\n",
              "\n",
              "    .dataframe tbody tr th {\n",
              "        vertical-align: top;\n",
              "    }\n",
              "\n",
              "    .dataframe thead th {\n",
              "        text-align: right;\n",
              "    }\n",
              "</style>\n",
              "<table border=\"1\" class=\"dataframe\">\n",
              "  <thead>\n",
              "    <tr style=\"text-align: right;\">\n",
              "      <th></th>\n",
              "      <th>filename</th>\n",
              "      <th>class-1</th>\n",
              "      <th>class-2</th>\n",
              "      <th>class-3</th>\n",
              "      <th>class-4</th>\n",
              "    </tr>\n",
              "  </thead>\n",
              "  <tbody>\n",
              "    <tr>\n",
              "      <th>0</th>\n",
              "      <td>252c10c1a_jpg.rf.00a0c09b26d84c2cf4e7efc431b78...</td>\n",
              "      <td>0</td>\n",
              "      <td>0</td>\n",
              "      <td>1</td>\n",
              "      <td>0</td>\n",
              "    </tr>\n",
              "    <tr>\n",
              "      <th>1</th>\n",
              "      <td>fbcb3df55_jpg.rf.00c39ac1f09905ddd042ee7cdb8ec...</td>\n",
              "      <td>0</td>\n",
              "      <td>0</td>\n",
              "      <td>1</td>\n",
              "      <td>0</td>\n",
              "    </tr>\n",
              "    <tr>\n",
              "      <th>2</th>\n",
              "      <td>c74abe00a_jpg.rf.00c47247b98dda59db402dc2e990f...</td>\n",
              "      <td>0</td>\n",
              "      <td>0</td>\n",
              "      <td>1</td>\n",
              "      <td>0</td>\n",
              "    </tr>\n",
              "    <tr>\n",
              "      <th>3</th>\n",
              "      <td>bba274c50_jpg.rf.014a29b62511869be8b7ce532ff78...</td>\n",
              "      <td>0</td>\n",
              "      <td>0</td>\n",
              "      <td>1</td>\n",
              "      <td>0</td>\n",
              "    </tr>\n",
              "    <tr>\n",
              "      <th>4</th>\n",
              "      <td>1d5f3ecb8_jpg.rf.016eb39f80b8b2f0096af6a0d4ab8...</td>\n",
              "      <td>0</td>\n",
              "      <td>0</td>\n",
              "      <td>1</td>\n",
              "      <td>0</td>\n",
              "    </tr>\n",
              "  </tbody>\n",
              "</table>\n",
              "</div>"
            ],
            "text/plain": [
              "                                            filename   class-1   class-2  \\\n",
              "0  252c10c1a_jpg.rf.00a0c09b26d84c2cf4e7efc431b78...         0         0   \n",
              "1  fbcb3df55_jpg.rf.00c39ac1f09905ddd042ee7cdb8ec...         0         0   \n",
              "2  c74abe00a_jpg.rf.00c47247b98dda59db402dc2e990f...         0         0   \n",
              "3  bba274c50_jpg.rf.014a29b62511869be8b7ce532ff78...         0         0   \n",
              "4  1d5f3ecb8_jpg.rf.016eb39f80b8b2f0096af6a0d4ab8...         0         0   \n",
              "\n",
              "    class-3   class-4  \n",
              "0         1         0  \n",
              "1         1         0  \n",
              "2         1         0  \n",
              "3         1         0  \n",
              "4         1         0  "
            ]
          },
          "execution_count": 7,
          "metadata": {},
          "output_type": "execute_result"
        }
      ],
      "source": [
        "print(\"\\nTop 5 rows of Test CSV:\")\n",
        "df_test.head()"
      ]
    },
    {
      "cell_type": "code",
      "execution_count": 8,
      "metadata": {
        "colab": {
          "base_uri": "https://localhost:8080/",
          "height": 407
        },
        "id": "WXe1u9HTNdhs",
        "outputId": "fd475edf-bdb6-4ab7-b108-d970b6fe15b7"
      },
      "outputs": [
        {
          "data": {
            "image/png": "[encoded data removed]",
            "text/plain": [
              "<Figure size 800x400 with 1 Axes>"
            ]
          },
          "metadata": {},
          "output_type": "display_data"
        }
      ],
      "source": [
        "# Melt the DataFrame to convert the class columns into rows\n",
        "melted_df = df_train.melt(id_vars=['filename'], var_name='class', value_name='defect')\n",
        "melted_df['defect'] = melted_df['defect'].map({0: 'No Defect', 1: 'Defect'})\n",
        "\n",
        "# Filter only rows where defect is 'Defect'\n",
        "defect_df = melted_df[melted_df['defect'] == 'Defect']\n",
        "\n",
        "# Create the countplot\n",
        "plt.figure(figsize=(8, 4))\n",
        "sns.countplot(x='defect', data=defect_df, hue='class', palette='viridis')\n",
        "plt.title('Number of Defects in Each Class')\n",
        "plt.xlabel('Defect')\n",
        "plt.ylabel('Count')\n",
        "plt.tight_layout()\n",
        "plt.show()"
      ]
    },
    {
      "cell_type": "markdown",
      "metadata": {
        "id": "hmxuiFTuCnti"
      },
      "source": [
        "The analysis reveals that `Class-3` contains a higher number of images with defects compared to other classes.\n",
        "\n",
        "Now let's see the exact number of each class."
      ]
    },
    {
      "cell_type": "code",
      "execution_count": 9,
      "metadata": {
        "colab": {
          "base_uri": "https://localhost:8080/"
        },
        "id": "AHLoG-ZHPRrq",
        "outputId": "ecce9fdf-84a2-4719-c9fd-b431ba1031c9"
      },
      "outputs": [
        {
          "name": "stdout",
          "output_type": "stream",
          "text": [
            "      class  defect_count\n",
            "0   class-1           629\n",
            "1   class-2           166\n",
            "2   class-3          3620\n",
            "3   class-4           569\n"
          ]
        }
      ],
      "source": [
        "# Calculate the count of defects in each class\n",
        "defect_counts = defect_df.groupby('class')['defect'].count().reset_index()\n",
        "defect_counts.columns = ['class', 'defect_count']\n",
        "\n",
        "# Display the count of defects in each class\n",
        "print(defect_counts)"
      ]
    },
    {
      "cell_type": "markdown",
      "metadata": {
        "id": "vhtamX1kENHy"
      },
      "source": [
        "Clearly, we can see that `Class-3` type defects are more prevalent compared to other defect types in the dataset."
      ]
    },
    {
      "cell_type": "markdown",
      "metadata": {
        "id": "NeI9bn5UIpSS"
      },
      "source": [
        "Now, we visualize one instance of each type of defect present in the dataset"
      ]
    },
    {
      "cell_type": "code",
      "execution_count": 10,
      "metadata": {
        "colab": {
          "base_uri": "https://localhost:8080/",
          "height": 492
        },
        "id": "3l6zXBgNEMEI",
        "outputId": "f44d1fa9-5bb9-44f5-f432-602ee96facfc"
      },
      "outputs": [
        {
          "data": {
            "image/png": "[encoded data removed]",
            "text/plain": [
              "<Figure size 1000x1000 with 4 Axes>"
            ]
          },
          "metadata": {},
          "output_type": "display_data"
        }
      ],
      "source": [
        "# Define class names\n",
        "class_names = df_train.columns[1:]  # Exclude the first column (filename)\n",
        "\n",
        "# Create a figure for plotting\n",
        "plt.figure(figsize=(10, 10))\n",
        "\n",
        "# Loop through each class and plot one image\n",
        "for i, class_name in enumerate(class_names, 1):\n",
        "    # Find the first image for this class\n",
        "    image_row = df_train[df_train[class_name] == 1].iloc[0]  # Assumes 1 indicates presence of defect\n",
        "    image_filename = image_row['filename']\n",
        "\n",
        "    # Load and plot the image\n",
        "    image_path = f'D:/capstone project/severstal-steel-defect-detection.v1i.multiclass/train/{image_filename}'  # Replace with the path to your image folder\n",
        "    image = Image.open(image_path)\n",
        "\n",
        "    plt.subplot(2, 2, i)\n",
        "    plt.imshow(image)\n",
        "    plt.title(class_name)\n",
        "    plt.axis(\"off\")\n",
        "\n",
        "plt.tight_layout()\n",
        "plt.show()"
      ]
    },
    {
      "cell_type": "markdown",
      "metadata": {
        "id": "9US3z0vDZSrs"
      },
      "source": [
        "# `MODEL BUILDING`"
      ]
    },
    {
      "cell_type": "markdown",
      "metadata": {
        "id": "6Rm5_09c1I-c"
      },
      "source": [
        "## Convolutional Neural Network (CNN)"
      ]
    },
    {
      "cell_type": "markdown",
      "metadata": {
        "id": "WBPbsq6_ZXiA"
      },
      "source": [
        "After performing all the preprocessing steps we will start with building our model using `Convolutional Neural Network (CNN)`."
      ]
    },
    {
      "cell_type": "markdown",
      "metadata": {
        "id": "5Mtxx1782Yjk"
      },
      "source": [
        "Define some parameters for the loader:"
      ]
    },
    {
      "cell_type": "code",
      "execution_count": 11,
      "metadata": {
        "id": "27iYF5QsZMok"
      },
      "outputs": [],
      "source": [
        "img_width, img_height = 256, 256\n",
        "batch_size = 64\n",
        "num_epochs = 10"
      ]
    },
    {
      "cell_type": "code",
      "execution_count": 12,
      "metadata": {
        "id": "jS3Cy4Dc2xfw"
      },
      "outputs": [],
      "source": [
        "# Data augmentation for training set\n",
        "train_datagen = ImageDataGenerator(\n",
        "    rescale=1./255,\n",
        "    rotation_range=20,\n",
        "    width_shift_range=0.2,\n",
        "    height_shift_range=0.2,\n",
        "    shear_range=0.2,\n",
        "    zoom_range=0.2,\n",
        "    horizontal_flip=True,\n",
        "    fill_mode='nearest'\n",
        ")"
      ]
    },
    {
      "cell_type": "code",
      "execution_count": 13,
      "metadata": {
        "colab": {
          "base_uri": "https://localhost:8080/"
        },
        "id": "K16-JEUQ3DNU",
        "outputId": "be34d13b-b586-4f8e-91ff-cef3a0505a4f"
      },
      "outputs": [
        {
          "name": "stdout",
          "output_type": "stream",
          "text": [
            "Found 4679 validated image filenames.\n"
          ]
        }
      ],
      "source": [
        "# Load training data from directory with labels from the CSV file\n",
        "train_generator = train_datagen.flow_from_dataframe(\n",
        "    dataframe=df_train,\n",
        "    directory=data_dir_train,\n",
        "    x_col=\"filename\",\n",
        "    y_col=[\" class-1\", \" class-2\", \" class-3\", \" class-4\"],\n",
        "    target_size=(img_width, img_height),\n",
        "    batch_size=batch_size,\n",
        "    class_mode='raw'\n",
        ")"
      ]
    },
    {
      "cell_type": "code",
      "execution_count": 14,
      "metadata": {
        "id": "20OtH34L3uix"
      },
      "outputs": [
        {
          "name": "stderr",
          "output_type": "stream",
          "text": [
            "c:\\Users\\shrey\\AppData\\Local\\Programs\\Python\\Python312\\Lib\\site-packages\\keras\\src\\layers\\convolutional\\base_conv.py:99: UserWarning: Do not pass an `input_shape`/`input_dim` argument to a layer. When using Sequential models, prefer using an `Input(shape)` object as the first layer in the model instead.\n",
            "  super().__init__(\n"
          ]
        }
      ],
      "source": [
        "# Define the CNN model\n",
        "model = Sequential([\n",
        "    Conv2D(32, (3, 3), activation='relu', input_shape=(img_width, img_height, 3)),\n",
        "    MaxPooling2D((2, 2)),\n",
        "    Conv2D(64, (3, 3), activation='relu'),\n",
        "    MaxPooling2D((2, 2)),\n",
        "    Conv2D(128, (3, 3), activation='relu'),\n",
        "    MaxPooling2D((2, 2)),\n",
        "    Conv2D(128, (3, 3), activation='relu'),\n",
        "    MaxPooling2D((2, 2)),\n",
        "    Flatten(),\n",
        "    Dense(512, activation='relu'),\n",
        "    Dense(4, activation='softmax')  # 4 classes\n",
        "])"
      ]
    },
    {
      "cell_type": "code",
      "execution_count": 15,
      "metadata": {
        "id": "FjH0cPAVwIfZ"
      },
      "outputs": [],
      "source": [
        "# Compile the model\n",
        "model.compile(optimizer='adam', loss='categorical_crossentropy', metrics=['accuracy'])"
      ]
    },
    {
      "cell_type": "code",
      "execution_count": 16,
      "metadata": {
        "colab": {
          "base_uri": "https://localhost:8080/"
        },
        "id": "zsS9vRYHwMFG",
        "outputId": "41403e45-df43-4530-8b58-da8df5341405"
      },
      "outputs": [
        {
          "name": "stdout",
          "output_type": "stream",
          "text": [
            "Epoch 1/10\n"
          ]
        },
        {
          "name": "stderr",
          "output_type": "stream",
          "text": [
            "c:\\Users\\shrey\\AppData\\Local\\Programs\\Python\\Python312\\Lib\\site-packages\\keras\\src\\trainers\\data_adapters\\py_dataset_adapter.py:120: UserWarning: Your `PyDataset` class should call `super().__init__(**kwargs)` in its constructor. `**kwargs` can include `workers`, `use_multiprocessing`, `max_queue_size`. Do not pass these arguments to `fit()`, as they will be ignored.\n",
            "  self._warn_if_super_not_called()\n"
          ]
        },
        {
          "name": "stdout",
          "output_type": "stream",
          "text": [
            "\u001b[1m73/73\u001b[0m \u001b[32m━━━━━━━━━━━━━━━━━━━━\u001b[0m\u001b[37m\u001b[0m \u001b[1m159s\u001b[0m 2s/step - accuracy: 0.6757 - loss: 43.1179\n",
            "Epoch 2/10\n",
            "\u001b[1m73/73\u001b[0m \u001b[32m━━━━━━━━━━━━━━━━━━━━\u001b[0m\u001b[37m\u001b[0m \u001b[1m2s\u001b[0m 402us/step - accuracy: 0.1406 - loss: 4552.9668\n",
            "Epoch 3/10\n"
          ]
        },
        {
          "name": "stderr",
          "output_type": "stream",
          "text": [
            "c:\\Users\\shrey\\AppData\\Local\\Programs\\Python\\Python312\\Lib\\contextlib.py:158: UserWarning: Your input ran out of data; interrupting training. Make sure that your dataset or generator can generate at least `steps_per_epoch * epochs` batches. You may need to use the `.repeat()` function when building your dataset.\n",
            "  self.gen.throw(value)\n"
          ]
        },
        {
          "name": "stdout",
          "output_type": "stream",
          "text": [
            "\u001b[1m73/73\u001b[0m \u001b[32m━━━━━━━━━━━━━━━━━━━━\u001b[0m\u001b[37m\u001b[0m \u001b[1m129s\u001b[0m 2s/step - accuracy: 0.6235 - loss: 252079.2344\n",
            "Epoch 4/10\n",
            "\u001b[1m73/73\u001b[0m \u001b[32m━━━━━━━━━━━━━━━━━━━━\u001b[0m\u001b[37m\u001b[0m \u001b[1m2s\u001b[0m 58us/step - accuracy: 0.8438 - loss: 2567600.7500\n",
            "Epoch 5/10\n",
            "\u001b[1m73/73\u001b[0m \u001b[32m━━━━━━━━━━━━━━━━━━━━\u001b[0m\u001b[37m\u001b[0m \u001b[1m136s\u001b[0m 2s/step - accuracy: 0.5822 - loss: 42435976.0000\n",
            "Epoch 6/10\n",
            "\u001b[1m73/73\u001b[0m \u001b[32m━━━━━━━━━━━━━━━━━━━━\u001b[0m\u001b[37m\u001b[0m \u001b[1m1s\u001b[0m 0s/step - accuracy: 0.7969 - loss: 97434688.0000   \n",
            "Epoch 7/10\n",
            "\u001b[1m73/73\u001b[0m \u001b[32m━━━━━━━━━━━━━━━━━━━━\u001b[0m\u001b[37m\u001b[0m \u001b[1m133s\u001b[0m 2s/step - accuracy: 0.6170 - loss: 633228544.0000\n",
            "Epoch 8/10\n",
            "\u001b[1m73/73\u001b[0m \u001b[32m━━━━━━━━━━━━━━━━━━━━\u001b[0m\u001b[37m\u001b[0m \u001b[1m2s\u001b[0m 70us/step - accuracy: 0.7656 - loss: 2146485248.0000\n",
            "Epoch 9/10\n",
            "\u001b[1m73/73\u001b[0m \u001b[32m━━━━━━━━━━━━━━━━━━━━\u001b[0m\u001b[37m\u001b[0m \u001b[1m142s\u001b[0m 2s/step - accuracy: 0.6038 - loss: 7159148544.0000\n",
            "Epoch 10/10\n",
            "\u001b[1m73/73\u001b[0m \u001b[32m━━━━━━━━━━━━━━━━━━━━\u001b[0m\u001b[37m\u001b[0m \u001b[1m2s\u001b[0m 0s/step - accuracy: 0.8438 - loss: 6677748736.0000   \n"
          ]
        }
      ],
      "source": [
        "# Train the model\n",
        "history = model.fit(\n",
        "    train_generator,\n",
        "    steps_per_epoch=train_generator.samples // batch_size,\n",
        "    epochs=num_epochs\n",
        ")"
      ]
    },
    {
      "cell_type": "code",
      "execution_count": 17,
      "metadata": {
        "colab": {
          "base_uri": "https://localhost:8080/"
        },
        "id": "sZ0s11d5wN70",
        "outputId": "9efe0c15-7d9f-4eaa-fdf4-346ce415bb5c"
      },
      "outputs": [
        {
          "name": "stderr",
          "output_type": "stream",
          "text": [
            "WARNING:absl:You are saving your model as an HDF5 file via `model.save()` or `keras.saving.save_model(model)`. This file format is considered legacy. We recommend using instead the native Keras format, e.g. `model.save('my_model.keras')` or `keras.saving.save_model(model, 'my_model.keras')`. \n"
          ]
        },
        {
          "name": "stdout",
          "output_type": "stream",
          "text": [
            "CNN Model trained and saved.\n"
          ]
        }
      ],
      "source": [
        "# Save the trained model\n",
        "model.save('D:/capstone project/severstal-steel-defect-detection.v1i.multiclass/cnn_model_with_csv.h5')\n",
        "print(\"CNN Model trained and saved.\")"
      ]
    },
    {
      "cell_type": "markdown",
      "metadata": {
        "id": "Fc8OLNUXYH5a"
      },
      "source": [
        "Training of Model is done. Now, we need to evaluate the model on our validation dataset."
      ]
    },
    {
      "cell_type": "markdown",
      "metadata": {
        "id": "1NQKlWQHYQXz"
      },
      "source": [
        "## Evaluating the Model on Validation Dataset"
      ]
    },
    {
      "cell_type": "code",
      "execution_count": 18,
      "metadata": {
        "id": "HQDQQ198Y4g6"
      },
      "outputs": [
        {
          "name": "stderr",
          "output_type": "stream",
          "text": [
            "WARNING:absl:Compiled the loaded model, but the compiled metrics have yet to be built. `model.compile_metrics` will be empty until you train or evaluate the model.\n"
          ]
        }
      ],
      "source": [
        "# Load the trained CNN model\n",
        "model = load_model('D:/capstone project/severstal-steel-defect-detection.v1i.multiclass/cnn_model_with_csv.h5')"
      ]
    },
    {
      "cell_type": "code",
      "execution_count": 19,
      "metadata": {
        "colab": {
          "base_uri": "https://localhost:8080/"
        },
        "id": "du2V4jaVX8vX",
        "outputId": "0e2d56ea-fd21-4625-90fd-7e22572da948"
      },
      "outputs": [
        {
          "name": "stdout",
          "output_type": "stream",
          "text": [
            "Found 1308 validated image filenames.\n"
          ]
        }
      ],
      "source": [
        "# Data augmentation for validation set\n",
        "valid_datagen = ImageDataGenerator(rescale=1./255)\n",
        "\n",
        "# Load validation data from directory with labels from the CSV file\n",
        "valid_generator = valid_datagen.flow_from_dataframe(\n",
        "    dataframe=df_validate,\n",
        "    directory=data_dir_validate,\n",
        "    x_col=\"filename\",\n",
        "    y_col=[\" class-1\", \" class-2\", \" class-3\", \" class-4\"],\n",
        "    target_size=(img_width, img_height),\n",
        "    batch_size=batch_size,\n",
        "    class_mode='raw',\n",
        "    shuffle=False  # Important to keep the same order as predictions\n",
        ")"
      ]
    },
    {
      "cell_type": "code",
      "execution_count": 20,
      "metadata": {
        "colab": {
          "base_uri": "https://localhost:8080/"
        },
        "id": "GtHxqheTYxwc",
        "outputId": "109674b0-3080-4247-8cbc-9ef86a814f42"
      },
      "outputs": [
        {
          "name": "stderr",
          "output_type": "stream",
          "text": [
            "c:\\Users\\shrey\\AppData\\Local\\Programs\\Python\\Python312\\Lib\\site-packages\\keras\\src\\trainers\\data_adapters\\py_dataset_adapter.py:120: UserWarning: Your `PyDataset` class should call `super().__init__(**kwargs)` in its constructor. `**kwargs` can include `workers`, `use_multiprocessing`, `max_queue_size`. Do not pass these arguments to `fit()`, as they will be ignored.\n",
            "  self._warn_if_super_not_called()\n"
          ]
        },
        {
          "name": "stdout",
          "output_type": "stream",
          "text": [
            "\u001b[1m21/21\u001b[0m \u001b[32m━━━━━━━━━━━━━━━━━━━━\u001b[0m\u001b[37m\u001b[0m \u001b[1m17s\u001b[0m 834ms/step - accuracy: 0.7386 - loss: 18812166144.0000\n"
          ]
        }
      ],
      "source": [
        "# Evaluate the model on the validation dataset\n",
        "eval_results = model.evaluate(valid_generator)"
      ]
    },
    {
      "cell_type": "code",
      "execution_count": 21,
      "metadata": {
        "colab": {
          "base_uri": "https://localhost:8080/"
        },
        "id": "toLtMJEPZEBv",
        "outputId": "00620061-0c45-4f6c-e293-074a0dc53954"
      },
      "outputs": [
        {
          "name": "stdout",
          "output_type": "stream",
          "text": [
            "Validation Loss: 18343956480.0\n",
            "Validation Accuracy: 0.7469419240951538\n"
          ]
        }
      ],
      "source": [
        "# Print the evaluation results (loss and accuracy)\n",
        "print(\"Validation Loss:\", eval_results[0])\n",
        "print(\"Validation Accuracy:\", eval_results[1])"
      ]
    },
    {
      "cell_type": "code",
      "execution_count": 22,
      "metadata": {
        "colab": {
          "base_uri": "https://localhost:8080/"
        },
        "id": "a1z6QVlPZRDY",
        "outputId": "f9a6898a-45e5-43e9-a234-0df3479d3b37"
      },
      "outputs": [
        {
          "name": "stdout",
          "output_type": "stream",
          "text": [
            "\u001b[1m21/21\u001b[0m \u001b[32m━━━━━━━━━━━━━━━━━━━━\u001b[0m\u001b[37m\u001b[0m \u001b[1m8s\u001b[0m 354ms/step\n"
          ]
        }
      ],
      "source": [
        "# Get predictions for the validation dataset\n",
        "valid_generator.reset()  # Reset the generator to the beginning\n",
        "y_pred = model.predict(valid_generator)"
      ]
    },
    {
      "cell_type": "code",
      "execution_count": 23,
      "metadata": {
        "id": "HAdes3_TZjG6"
      },
      "outputs": [],
      "source": [
        "# Assuming you want to extract class predictions from probabilities\n",
        "# You can choose the class with the highest probability for each sample\n",
        "y_pred_classes = np.argmax(y_pred, axis=1)"
      ]
    },
    {
      "cell_type": "code",
      "execution_count": 24,
      "metadata": {
        "id": "3bf5lXBFZlYm"
      },
      "outputs": [],
      "source": [
        "# Get true labels for the validation dataset\n",
        "y_true = df_validate[[\" class-1\", \" class-2\", \" class-3\", \" class-4\"]].values\n",
        "y_true_classes = np.argmax(y_true, axis=1)"
      ]
    },
    {
      "cell_type": "code",
      "execution_count": 25,
      "metadata": {
        "colab": {
          "base_uri": "https://localhost:8080/"
        },
        "id": "Gd0fINzyZtIK",
        "outputId": "3f278cb3-339c-465f-b252-c619e87a83b9"
      },
      "outputs": [
        {
          "name": "stdout",
          "output_type": "stream",
          "text": [
            "Classification Report:\n",
            "              precision    recall  f1-score   support\n",
            "\n",
            "           0       0.00      0.00      0.00       176\n",
            "           1       0.00      0.00      0.00        50\n",
            "           2       0.75      1.00      0.86       977\n",
            "           3       0.00      0.00      0.00       105\n",
            "\n",
            "    accuracy                           0.75      1308\n",
            "   macro avg       0.19      0.25      0.21      1308\n",
            "weighted avg       0.56      0.75      0.64      1308\n",
            "\n",
            "Confusion Matrix:\n",
            "[[  0   0 176   0]\n",
            " [  0   0  50   0]\n",
            " [  0   0 977   0]\n",
            " [  0   0 105   0]]\n",
            "Accuracy: 0.7469418960244648\n",
            "Precision: 0.8109803000121575\n",
            "Recall: 0.7469418960244648\n",
            "F1 Score: 0.6387415601014461\n"
          ]
        },
        {
          "name": "stderr",
          "output_type": "stream",
          "text": [
            "c:\\Users\\shrey\\AppData\\Local\\Programs\\Python\\Python312\\Lib\\site-packages\\sklearn\\metrics\\_classification.py:1509: UndefinedMetricWarning: Precision is ill-defined and being set to 0.0 in labels with no predicted samples. Use `zero_division` parameter to control this behavior.\n",
            "  _warn_prf(average, modifier, f\"{metric.capitalize()} is\", len(result))\n",
            "c:\\Users\\shrey\\AppData\\Local\\Programs\\Python\\Python312\\Lib\\site-packages\\sklearn\\metrics\\_classification.py:1509: UndefinedMetricWarning: Precision is ill-defined and being set to 0.0 in labels with no predicted samples. Use `zero_division` parameter to control this behavior.\n",
            "  _warn_prf(average, modifier, f\"{metric.capitalize()} is\", len(result))\n",
            "c:\\Users\\shrey\\AppData\\Local\\Programs\\Python\\Python312\\Lib\\site-packages\\sklearn\\metrics\\_classification.py:1509: UndefinedMetricWarning: Precision is ill-defined and being set to 0.0 in labels with no predicted samples. Use `zero_division` parameter to control this behavior.\n",
            "  _warn_prf(average, modifier, f\"{metric.capitalize()} is\", len(result))\n"
          ]
        }
      ],
      "source": [
        "# Calculate additional evaluation metrics if needed\n",
        "# Classification Report\n",
        "print(\"Classification Report:\")\n",
        "print(classification_report(y_true_classes, y_pred_classes))\n",
        "\n",
        "# Confusion Matrix\n",
        "conf_matrix = confusion_matrix(y_true_classes, y_pred_classes)\n",
        "print(\"Confusion Matrix:\")\n",
        "print(conf_matrix)\n",
        "\n",
        "# Calculate accuracy\n",
        "accuracy = accuracy_score(y_true_classes, y_pred_classes)\n",
        "print(\"Accuracy:\", accuracy)\n",
        "\n",
        "# Calculate precision, recall, and F1 score\n",
        "precision = precision_score(y_true_classes, y_pred_classes, average='weighted', zero_division=1)\n",
        "recall = recall_score(y_true_classes, y_pred_classes, average='weighted', zero_division=1)\n",
        "f1 = f1_score(y_true_classes, y_pred_classes, average='weighted', zero_division=1)\n",
        "\n",
        "print(\"Precision:\", precision)\n",
        "print(\"Recall:\", recall)\n",
        "print(\"F1 Score:\", f1)"
      ]
    },
    {
      "cell_type": "code",
      "execution_count": 26,
      "metadata": {
        "colab": {
          "base_uri": "https://localhost:8080/",
          "height": 564
        },
        "id": "Uprb7dLtbHEP",
        "outputId": "91351520-eb7b-4208-f284-2057e1426a62"
      },
      "outputs": [
        {
          "data": {
            "image/png": "[encoded data removed]",
            "text/plain": [
              "<Figure size 800x600 with 2 Axes>"
            ]
          },
          "metadata": {},
          "output_type": "display_data"
        }
      ],
      "source": [
        "# Save the evaluation results or visualization if needed\n",
        "# For example, save the confusion matrix plot\n",
        "plt.figure(figsize=(8, 6))\n",
        "sns.heatmap(conf_matrix, annot=True, fmt=\"d\", cmap=\"Blues\")\n",
        "plt.xlabel(\"Predicted Labels\")\n",
        "plt.ylabel(\"True Labels\")\n",
        "plt.title(\"Confusion Matrix - Validation Dataset\")\n",
        "plt.show()"
      ]
    },
    {
      "cell_type": "markdown",
      "metadata": {
        "id": "UbtdVS4dgsV5"
      },
      "source": [
        "## Hyperparameter Tuning"
      ]
    },
    {
      "cell_type": "code",
      "execution_count": 27,
      "metadata": {
        "id": "x6EGJyUtbd57"
      },
      "outputs": [],
      "source": [
        "# Define the model builder function for hyperparameter tuning\n",
        "def build_model(hp):\n",
        "    model = Sequential()\n",
        "    model.add(Conv2D(hp.Int('conv1_units', min_value=32, max_value=128, step=32), (3, 3), activation='relu', input_shape=(img_width, img_height, 3)))\n",
        "    model.add(MaxPooling2D((2, 2)))\n",
        "    model.add(Conv2D(hp.Int('conv2_units', min_value=32, max_value=128, step=32), (3, 3), activation='relu'))\n",
        "    model.add(MaxPooling2D((2, 2)))\n",
        "    model.add(Flatten())\n",
        "    model.add(Dense(hp.Int('dense_units', min_value=128, max_value=512, step=128), activation='relu'))\n",
        "    model.add(Dense(4, activation='softmax'))  # Assuming 4 classes\n",
        "\n",
        "    model.compile(optimizer='adam',\n",
        "                  loss='categorical_crossentropy',\n",
        "                  metrics=['accuracy'])\n",
        "    return model"
      ]
    },
    {
      "cell_type": "code",
      "execution_count": 28,
      "metadata": {
        "id": "-jX7CPZ7hN1Z"
      },
      "outputs": [
        {
          "name": "stdout",
          "output_type": "stream",
          "text": [
            "Reloading Tuner from D:/capstone project/severstal-steel-defect-detection.v1i.multiclass/cnn_hyperparameter_tuning\\tuner0.json\n"
          ]
        }
      ],
      "source": [
        "# Initialize the tuner\n",
        "tuner = kt.RandomSearch(\n",
        "    build_model,\n",
        "    objective='val_accuracy',\n",
        "    max_trials=10,\n",
        "    directory='D:/capstone project/severstal-steel-defect-detection.v1i.multiclass/',\n",
        "    project_name='cnn_hyperparameter_tuning'\n",
        ")"
      ]
    },
    {
      "cell_type": "code",
      "execution_count": 29,
      "metadata": {
        "colab": {
          "base_uri": "https://localhost:8080/"
        },
        "id": "OKnsSIuAhP9s",
        "outputId": "70c4cac4-f573-4bd0-ce12-7b013a8ce64d"
      },
      "outputs": [],
      "source": [
        "# Perform the hyperparameter search\n",
        "tuner.search(train_generator,\n",
        "             steps_per_epoch=train_generator.samples // batch_size,\n",
        "             epochs=num_epochs,\n",
        "             validation_data=valid_generator,\n",
        "             validation_steps=valid_generator.samples // batch_size)\n",
        "\n",
        "# Get the best hyperparameters\n",
        "best_hps = tuner.get_best_hyperparameters(num_trials=1)[0]"
      ]
    },
    {
      "cell_type": "code",
      "execution_count": 30,
      "metadata": {
        "id": "DbHRZGN_hejH"
      },
      "outputs": [],
      "source": [
        "# Save the best hyperparameters to a file\n",
        "best_hps_file = 'best_hyperparameters.txt'\n",
        "with open(best_hps_file, 'w') as f:\n",
        "    f.write(str(best_hps.get_config()))"
      ]
    },
    {
      "cell_type": "code",
      "execution_count": 31,
      "metadata": {
        "id": "MNJRNl6sigac"
      },
      "outputs": [
        {
          "name": "stderr",
          "output_type": "stream",
          "text": [
            "c:\\Users\\shrey\\AppData\\Local\\Programs\\Python\\Python312\\Lib\\site-packages\\keras\\src\\layers\\convolutional\\base_conv.py:99: UserWarning: Do not pass an `input_shape`/`input_dim` argument to a layer. When using Sequential models, prefer using an `Input(shape)` object as the first layer in the model instead.\n",
            "  super().__init__(\n"
          ]
        },
        {
          "name": "stdout",
          "output_type": "stream",
          "text": [
            "Epoch 1/10\n",
            "\u001b[1m73/73\u001b[0m \u001b[32m━━━━━━━━━━━━━━━━━━━━\u001b[0m\u001b[37m\u001b[0m \u001b[1m511s\u001b[0m 7s/step - accuracy: 0.6712 - loss: 6.8548 - val_accuracy: 0.7461 - val_loss: 158.3716\n",
            "Epoch 2/10\n",
            "\u001b[1m 1/73\u001b[0m \u001b[37m━━━━━━━━━━━━━━━━━━━━\u001b[0m \u001b[1m7:45\u001b[0m 6s/step - accuracy: 0.7969 - loss: 117.6916"
          ]
        },
        {
          "name": "stderr",
          "output_type": "stream",
          "text": [
            "c:\\Users\\shrey\\AppData\\Local\\Programs\\Python\\Python312\\Lib\\contextlib.py:158: UserWarning: Your input ran out of data; interrupting training. Make sure that your dataset or generator can generate at least `steps_per_epoch * epochs` batches. You may need to use the `.repeat()` function when building your dataset.\n",
            "  self.gen.throw(value)\n"
          ]
        },
        {
          "name": "stdout",
          "output_type": "stream",
          "text": [
            "\u001b[1m73/73\u001b[0m \u001b[32m━━━━━━━━━━━━━━━━━━━━\u001b[0m\u001b[37m\u001b[0m \u001b[1m7s\u001b[0m 10ms/step - accuracy: 0.7969 - loss: 59.6519 - val_accuracy: 0.5714 - val_loss: 54.2448\n",
            "Epoch 3/10\n",
            "\u001b[1m73/73\u001b[0m \u001b[32m━━━━━━━━━━━━━━━━━━━━\u001b[0m\u001b[37m\u001b[0m \u001b[1m463s\u001b[0m 6s/step - accuracy: 0.5701 - loss: 440.9932 - val_accuracy: 0.7453 - val_loss: 3650.8354\n",
            "Epoch 4/10\n",
            "\u001b[1m73/73\u001b[0m \u001b[32m━━━━━━━━━━━━━━━━━━━━\u001b[0m\u001b[37m\u001b[0m \u001b[1m6s\u001b[0m 8ms/step - accuracy: 0.8281 - loss: 1344.0441 - val_accuracy: 0.8214 - val_loss: 2241.2302\n",
            "Epoch 5/10\n",
            "\u001b[1m73/73\u001b[0m \u001b[32m━━━━━━━━━━━━━━━━━━━━\u001b[0m\u001b[37m\u001b[0m \u001b[1m452s\u001b[0m 6s/step - accuracy: 0.6077 - loss: 11752.4688 - val_accuracy: 0.7461 - val_loss: 70167.9297\n",
            "Epoch 6/10\n",
            "\u001b[1m73/73\u001b[0m \u001b[32m━━━━━━━━━━━━━━━━━━━━\u001b[0m\u001b[37m\u001b[0m \u001b[1m6s\u001b[0m 8ms/step - accuracy: 0.7031 - loss: 46069.9219 - val_accuracy: 0.8571 - val_loss: 22393.6348\n",
            "Epoch 7/10\n",
            "\u001b[1m73/73\u001b[0m \u001b[32m━━━━━━━━━━━━━━━━━━━━\u001b[0m\u001b[37m\u001b[0m \u001b[1m492s\u001b[0m 7s/step - accuracy: 0.6100 - loss: 81468.5781 - val_accuracy: 0.7453 - val_loss: 303208.2500\n",
            "Epoch 8/10\n",
            "\u001b[1m73/73\u001b[0m \u001b[32m━━━━━━━━━━━━━━━━━━━━\u001b[0m\u001b[37m\u001b[0m \u001b[1m7s\u001b[0m 8ms/step - accuracy: 0.7500 - loss: 148094.2969 - val_accuracy: 0.8214 - val_loss: 101043.0547\n",
            "Epoch 9/10\n",
            "\u001b[1m73/73\u001b[0m \u001b[32m━━━━━━━━━━━━━━━━━━━━\u001b[0m\u001b[37m\u001b[0m \u001b[1m470s\u001b[0m 6s/step - accuracy: 0.5871 - loss: 382486.0625 - val_accuracy: 0.7453 - val_loss: 779602.9375\n",
            "Epoch 10/10\n",
            "\u001b[1m73/73\u001b[0m \u001b[32m━━━━━━━━━━━━━━━━━━━━\u001b[0m\u001b[37m\u001b[0m \u001b[1m7s\u001b[0m 9ms/step - accuracy: 0.8125 - loss: 256756.9062 - val_accuracy: 0.8214 - val_loss: 261631.7188\n"
          ]
        },
        {
          "data": {
            "text/plain": [
              "<keras.src.callbacks.history.History at 0x11cd3255b20>"
            ]
          },
          "execution_count": 31,
          "metadata": {},
          "output_type": "execute_result"
        }
      ],
      "source": [
        "# Define the final model using the best hyperparameters\n",
        "final_model = build_model(best_hps)\n",
        "\n",
        "# Train the final model on the full training dataset\n",
        "final_model.fit(train_generator,\n",
        "                steps_per_epoch=train_generator.samples // batch_size,\n",
        "                epochs=num_epochs,\n",
        "                validation_data=valid_generator,\n",
        "                validation_steps=valid_generator.samples // batch_size)"
      ]
    },
    {
      "cell_type": "code",
      "execution_count": 32,
      "metadata": {
        "id": "AlhILT0ljUWw"
      },
      "outputs": [
        {
          "name": "stderr",
          "output_type": "stream",
          "text": [
            "WARNING:absl:You are saving your model as an HDF5 file via `model.save()` or `keras.saving.save_model(model)`. This file format is considered legacy. We recommend using instead the native Keras format, e.g. `model.save('my_model.keras')` or `keras.saving.save_model(model, 'my_model.keras')`. \n"
          ]
        }
      ],
      "source": [
        "# Save the final trained model\n",
        "final_model.save('D:/capstone project/severstal-steel-defect-detection.v1i.multiclass/final_model.h5')"
      ]
    },
    {
      "cell_type": "markdown",
      "metadata": {
        "id": "iljcwrXnjnpu"
      },
      "source": [
        "## Testing the Trained Model on Test Dataset"
      ]
    },
    {
      "cell_type": "code",
      "execution_count": 33,
      "metadata": {},
      "outputs": [
        {
          "name": "stdout",
          "output_type": "stream",
          "text": [
            "Found 679 validated image filenames.\n"
          ]
        }
      ],
      "source": [
        "# Create the test data generator\n",
        "test_datagen = ImageDataGenerator(rescale=1./255)\n",
        "test_generator = test_datagen.flow_from_dataframe(\n",
        "    dataframe=df_test,\n",
        "    directory=data_dir_test,\n",
        "    x_col=\"filename\",\n",
        "    y_col=[\" class-1\", \" class-2\", \" class-3\", \" class-4\"],  # Setting y_col to None because we manually created the labels\n",
        "    class_mode='raw',  # Setting class_mode to None for custom labels\n",
        "    target_size=(img_width, img_height),\n",
        "    batch_size=batch_size,\n",
        "    shuffle=False\n",
        ")"
      ]
    },
    {
      "cell_type": "code",
      "execution_count": 34,
      "metadata": {},
      "outputs": [
        {
          "name": "stderr",
          "output_type": "stream",
          "text": [
            "c:\\Users\\shrey\\AppData\\Local\\Programs\\Python\\Python312\\Lib\\site-packages\\keras\\src\\trainers\\data_adapters\\py_dataset_adapter.py:120: UserWarning: Your `PyDataset` class should call `super().__init__(**kwargs)` in its constructor. `**kwargs` can include `workers`, `use_multiprocessing`, `max_queue_size`. Do not pass these arguments to `fit()`, as they will be ignored.\n",
            "  self._warn_if_super_not_called()\n"
          ]
        },
        {
          "name": "stdout",
          "output_type": "stream",
          "text": [
            "\u001b[1m11/11\u001b[0m \u001b[32m━━━━━━━━━━━━━━━━━━━━\u001b[0m\u001b[37m\u001b[0m \u001b[1m8s\u001b[0m 742ms/step - accuracy: 0.7689 - loss: 18133403648.0000\n",
            "Test Loss: 17192636416.0\n",
            "Test Accuracy: 0.7614138722419739\n"
          ]
        }
      ],
      "source": [
        "# Now test your model using the test generator\n",
        "evaluation = model.evaluate(test_generator)\n",
        "\n",
        "# Print the evaluation results\n",
        "print(\"Test Loss:\", evaluation[0])\n",
        "print(\"Test Accuracy:\", evaluation[1])"
      ]
    },
    {
      "cell_type": "code",
      "execution_count": 35,
      "metadata": {
        "id": "9HRaJxzN6Xg7"
      },
      "outputs": [
        {
          "name": "stdout",
          "output_type": "stream",
          "text": [
            "\u001b[1m11/11\u001b[0m \u001b[32m━━━━━━━━━━━━━━━━━━━━\u001b[0m\u001b[37m\u001b[0m \u001b[1m13s\u001b[0m 1s/step\n"
          ]
        }
      ],
      "source": [
        "# Get predictions for the test dataset\n",
        "test_generator.reset()  # Reset the generator to the beginning\n",
        "y_pred_final = final_model.predict(test_generator)\n",
        "\n",
        "# Assuming you want to extract class predictions from probabilities\n",
        "# You can choose the class with the highest probability for each sample\n",
        "y_pred_classes_final = np.argmax(y_pred_final, axis=1)\n",
        "\n",
        "# Get true labels for the validation dataset\n",
        "y_true = df_test[[\" class-1\", \" class-2\", \" class-3\", \" class-4\"]].values\n",
        "y_true_classes_final = np.argmax(y_true, axis=1)\n",
        "\n",
        "# Get true labels for the test dataset\n",
        "# This assumes that your test dataset generator returns one-hot encoded labels\n",
        "# y_true_classes_final = test_generator.classes"
      ]
    },
    {
      "cell_type": "code",
      "execution_count": 36,
      "metadata": {
        "id": "4qiZQIrJ7S-l"
      },
      "outputs": [
        {
          "name": "stdout",
          "output_type": "stream",
          "text": [
            "Classification Report:\n",
            "              precision    recall  f1-score   support\n",
            "\n",
            "           0       0.00      0.00      0.00        92\n",
            "           1       0.00      0.00      0.00        23\n",
            "           2       0.76      1.00      0.86       517\n",
            "           3       0.00      0.00      0.00        47\n",
            "\n",
            "    accuracy                           0.76       679\n",
            "   macro avg       0.19      0.25      0.22       679\n",
            "weighted avg       0.58      0.76      0.66       679\n",
            "\n",
            "Confusion Matrix:\n",
            "[[  0   0  92   0]\n",
            " [  0   0  23   0]\n",
            " [  0   0 517   0]\n",
            " [  0   0  47   0]]\n",
            "Accuracy: 0.7614138438880707\n",
            "Precision: 0.8183371977763365\n",
            "Recall: 0.7614138438880707\n",
            "F1 Score: 0.6582791927928637\n"
          ]
        },
        {
          "name": "stderr",
          "output_type": "stream",
          "text": [
            "c:\\Users\\shrey\\AppData\\Local\\Programs\\Python\\Python312\\Lib\\site-packages\\sklearn\\metrics\\_classification.py:1509: UndefinedMetricWarning: Precision is ill-defined and being set to 0.0 in labels with no predicted samples. Use `zero_division` parameter to control this behavior.\n",
            "  _warn_prf(average, modifier, f\"{metric.capitalize()} is\", len(result))\n",
            "c:\\Users\\shrey\\AppData\\Local\\Programs\\Python\\Python312\\Lib\\site-packages\\sklearn\\metrics\\_classification.py:1509: UndefinedMetricWarning: Precision is ill-defined and being set to 0.0 in labels with no predicted samples. Use `zero_division` parameter to control this behavior.\n",
            "  _warn_prf(average, modifier, f\"{metric.capitalize()} is\", len(result))\n",
            "c:\\Users\\shrey\\AppData\\Local\\Programs\\Python\\Python312\\Lib\\site-packages\\sklearn\\metrics\\_classification.py:1509: UndefinedMetricWarning: Precision is ill-defined and being set to 0.0 in labels with no predicted samples. Use `zero_division` parameter to control this behavior.\n",
            "  _warn_prf(average, modifier, f\"{metric.capitalize()} is\", len(result))\n"
          ]
        }
      ],
      "source": [
        "# Calculate additional evaluation metrics if needed\n",
        "# Classification Report\n",
        "print(\"Classification Report:\")\n",
        "print(classification_report(y_true_classes_final, y_pred_classes_final))\n",
        "\n",
        "# Confusion Matrix\n",
        "conf_matrix = confusion_matrix(y_true_classes_final, y_pred_classes_final)\n",
        "print(\"Confusion Matrix:\")\n",
        "print(conf_matrix)\n",
        "\n",
        "# Calculate accuracy\n",
        "accuracy = accuracy_score(y_true_classes_final, y_pred_classes_final)\n",
        "print(\"Accuracy:\", accuracy)\n",
        "\n",
        "# Calculate precision, recall, and F1 score\n",
        "precision = precision_score(y_true_classes_final, y_pred_classes_final, average='weighted', zero_division=1)\n",
        "recall = recall_score(y_true_classes_final, y_pred_classes_final, average='weighted', zero_division=1)\n",
        "f1 = f1_score(y_true_classes_final, y_pred_classes_final, average='weighted', zero_division=1)\n",
        "\n",
        "print(\"Precision:\", precision)\n",
        "print(\"Recall:\", recall)\n",
        "print(\"F1 Score:\", f1)"
      ]
    },
    {
      "cell_type": "code",
      "execution_count": 37,
      "metadata": {
        "id": "JjMtuNrL7yyI"
      },
      "outputs": [
        {
          "data": {
            "image/png": "[encoded data removed]",
            "text/plain": [
              "<Figure size 800x600 with 2 Axes>"
            ]
          },
          "metadata": {},
          "output_type": "display_data"
        }
      ],
      "source": [
        "# Save the evaluation results or visualization if needed\n",
        "# For example, save the confusion matrix plot\n",
        "\n",
        "plt.figure(figsize=(8, 6))\n",
        "sns.heatmap(conf_matrix, annot=True, fmt=\"d\", cmap=\"Blues\")\n",
        "plt.xlabel(\"Predicted Labels\")\n",
        "plt.ylabel(\"True Labels\")\n",
        "plt.title(\"Confusion Matrix - Test Dataset\")\n",
        "plt.show()"
      ]
    },
    {
      "cell_type": "markdown",
      "metadata": {},
      "source": []
    },
    {
      "cell_type": "code",
      "execution_count": 38,
      "metadata": {},
      "outputs": [
        {
          "data": {
            "text/html": [
              "<pre style=\"white-space:pre;overflow-x:auto;line-height:normal;font-family:Menlo,'DejaVu Sans Mono',consolas,'Courier New',monospace\"><span style=\"font-weight: bold\">Model: \"sequential_1\"</span>\n",
              "</pre>\n"
            ],
            "text/plain": [
              "\u001b[1mModel: \"sequential_1\"\u001b[0m\n"
            ]
          },
          "metadata": {},
          "output_type": "display_data"
        },
        {
          "data": {
            "text/html": [
              "<pre style=\"white-space:pre;overflow-x:auto;line-height:normal;font-family:Menlo,'DejaVu Sans Mono',consolas,'Courier New',monospace\">┏━━━━━━━━━━━━━━━━━━━━━━━━━━━━━━━━━┳━━━━━━━━━━━━━━━━━━━━━━━━┳━━━━━━━━━━━━━━━┓\n",
              "┃<span style=\"font-weight: bold\"> Layer (type)                    </span>┃<span style=\"font-weight: bold\"> Output Shape           </span>┃<span style=\"font-weight: bold\">       Param # </span>┃\n",
              "┡━━━━━━━━━━━━━━━━━━━━━━━━━━━━━━━━━╇━━━━━━━━━━━━━━━━━━━━━━━━╇━━━━━━━━━━━━━━━┩\n",
              "│ conv2d_4 (<span style=\"color: #0087ff; text-decoration-color: #0087ff\">Conv2D</span>)               │ (<span style=\"color: #00d7ff; text-decoration-color: #00d7ff\">None</span>, <span style=\"color: #00af00; text-decoration-color: #00af00\">254</span>, <span style=\"color: #00af00; text-decoration-color: #00af00\">254</span>, <span style=\"color: #00af00; text-decoration-color: #00af00\">128</span>)  │         <span style=\"color: #00af00; text-decoration-color: #00af00\">3,584</span> │\n",
              "├─────────────────────────────────┼────────────────────────┼───────────────┤\n",
              "│ max_pooling2d_4 (<span style=\"color: #0087ff; text-decoration-color: #0087ff\">MaxPooling2D</span>)  │ (<span style=\"color: #00d7ff; text-decoration-color: #00d7ff\">None</span>, <span style=\"color: #00af00; text-decoration-color: #00af00\">127</span>, <span style=\"color: #00af00; text-decoration-color: #00af00\">127</span>, <span style=\"color: #00af00; text-decoration-color: #00af00\">128</span>)  │             <span style=\"color: #00af00; text-decoration-color: #00af00\">0</span> │\n",
              "├─────────────────────────────────┼────────────────────────┼───────────────┤\n",
              "│ conv2d_5 (<span style=\"color: #0087ff; text-decoration-color: #0087ff\">Conv2D</span>)               │ (<span style=\"color: #00d7ff; text-decoration-color: #00d7ff\">None</span>, <span style=\"color: #00af00; text-decoration-color: #00af00\">125</span>, <span style=\"color: #00af00; text-decoration-color: #00af00\">125</span>, <span style=\"color: #00af00; text-decoration-color: #00af00\">96</span>)   │       <span style=\"color: #00af00; text-decoration-color: #00af00\">110,688</span> │\n",
              "├─────────────────────────────────┼────────────────────────┼───────────────┤\n",
              "│ max_pooling2d_5 (<span style=\"color: #0087ff; text-decoration-color: #0087ff\">MaxPooling2D</span>)  │ (<span style=\"color: #00d7ff; text-decoration-color: #00d7ff\">None</span>, <span style=\"color: #00af00; text-decoration-color: #00af00\">62</span>, <span style=\"color: #00af00; text-decoration-color: #00af00\">62</span>, <span style=\"color: #00af00; text-decoration-color: #00af00\">96</span>)     │             <span style=\"color: #00af00; text-decoration-color: #00af00\">0</span> │\n",
              "├─────────────────────────────────┼────────────────────────┼───────────────┤\n",
              "│ flatten_1 (<span style=\"color: #0087ff; text-decoration-color: #0087ff\">Flatten</span>)             │ (<span style=\"color: #00d7ff; text-decoration-color: #00d7ff\">None</span>, <span style=\"color: #00af00; text-decoration-color: #00af00\">369024</span>)         │             <span style=\"color: #00af00; text-decoration-color: #00af00\">0</span> │\n",
              "├─────────────────────────────────┼────────────────────────┼───────────────┤\n",
              "│ dense_2 (<span style=\"color: #0087ff; text-decoration-color: #0087ff\">Dense</span>)                 │ (<span style=\"color: #00d7ff; text-decoration-color: #00d7ff\">None</span>, <span style=\"color: #00af00; text-decoration-color: #00af00\">256</span>)            │    <span style=\"color: #00af00; text-decoration-color: #00af00\">94,470,400</span> │\n",
              "├─────────────────────────────────┼────────────────────────┼───────────────┤\n",
              "│ dense_3 (<span style=\"color: #0087ff; text-decoration-color: #0087ff\">Dense</span>)                 │ (<span style=\"color: #00d7ff; text-decoration-color: #00d7ff\">None</span>, <span style=\"color: #00af00; text-decoration-color: #00af00\">4</span>)              │         <span style=\"color: #00af00; text-decoration-color: #00af00\">1,028</span> │\n",
              "└─────────────────────────────────┴────────────────────────┴───────────────┘\n",
              "</pre>\n"
            ],
            "text/plain": [
              "┏━━━━━━━━━━━━━━━━━━━━━━━━━━━━━━━━━┳━━━━━━━━━━━━━━━━━━━━━━━━┳━━━━━━━━━━━━━━━┓\n",
              "┃\u001b[1m \u001b[0m\u001b[1mLayer (type)                   \u001b[0m\u001b[1m \u001b[0m┃\u001b[1m \u001b[0m\u001b[1mOutput Shape          \u001b[0m\u001b[1m \u001b[0m┃\u001b[1m \u001b[0m\u001b[1m      Param #\u001b[0m\u001b[1m \u001b[0m┃\n",
              "┡━━━━━━━━━━━━━━━━━━━━━━━━━━━━━━━━━╇━━━━━━━━━━━━━━━━━━━━━━━━╇━━━━━━━━━━━━━━━┩\n",
              "│ conv2d_4 (\u001b[38;5;33mConv2D\u001b[0m)               │ (\u001b[38;5;45mNone\u001b[0m, \u001b[38;5;34m254\u001b[0m, \u001b[38;5;34m254\u001b[0m, \u001b[38;5;34m128\u001b[0m)  │         \u001b[38;5;34m3,584\u001b[0m │\n",
              "├─────────────────────────────────┼────────────────────────┼───────────────┤\n",
              "│ max_pooling2d_4 (\u001b[38;5;33mMaxPooling2D\u001b[0m)  │ (\u001b[38;5;45mNone\u001b[0m, \u001b[38;5;34m127\u001b[0m, \u001b[38;5;34m127\u001b[0m, \u001b[38;5;34m128\u001b[0m)  │             \u001b[38;5;34m0\u001b[0m │\n",
              "├─────────────────────────────────┼────────────────────────┼───────────────┤\n",
              "│ conv2d_5 (\u001b[38;5;33mConv2D\u001b[0m)               │ (\u001b[38;5;45mNone\u001b[0m, \u001b[38;5;34m125\u001b[0m, \u001b[38;5;34m125\u001b[0m, \u001b[38;5;34m96\u001b[0m)   │       \u001b[38;5;34m110,688\u001b[0m │\n",
              "├─────────────────────────────────┼────────────────────────┼───────────────┤\n",
              "│ max_pooling2d_5 (\u001b[38;5;33mMaxPooling2D\u001b[0m)  │ (\u001b[38;5;45mNone\u001b[0m, \u001b[38;5;34m62\u001b[0m, \u001b[38;5;34m62\u001b[0m, \u001b[38;5;34m96\u001b[0m)     │             \u001b[38;5;34m0\u001b[0m │\n",
              "├─────────────────────────────────┼────────────────────────┼───────────────┤\n",
              "│ flatten_1 (\u001b[38;5;33mFlatten\u001b[0m)             │ (\u001b[38;5;45mNone\u001b[0m, \u001b[38;5;34m369024\u001b[0m)         │             \u001b[38;5;34m0\u001b[0m │\n",
              "├─────────────────────────────────┼────────────────────────┼───────────────┤\n",
              "│ dense_2 (\u001b[38;5;33mDense\u001b[0m)                 │ (\u001b[38;5;45mNone\u001b[0m, \u001b[38;5;34m256\u001b[0m)            │    \u001b[38;5;34m94,470,400\u001b[0m │\n",
              "├─────────────────────────────────┼────────────────────────┼───────────────┤\n",
              "│ dense_3 (\u001b[38;5;33mDense\u001b[0m)                 │ (\u001b[38;5;45mNone\u001b[0m, \u001b[38;5;34m4\u001b[0m)              │         \u001b[38;5;34m1,028\u001b[0m │\n",
              "└─────────────────────────────────┴────────────────────────┴───────────────┘\n"
            ]
          },
          "metadata": {},
          "output_type": "display_data"
        },
        {
          "data": {
            "text/html": [
              "<pre style=\"white-space:pre;overflow-x:auto;line-height:normal;font-family:Menlo,'DejaVu Sans Mono',consolas,'Courier New',monospace\"><span style=\"font-weight: bold\"> Total params: </span><span style=\"color: #00af00; text-decoration-color: #00af00\">283,757,102</span> (1.06 GB)\n",
              "</pre>\n"
            ],
            "text/plain": [
              "\u001b[1m Total params: \u001b[0m\u001b[38;5;34m283,757,102\u001b[0m (1.06 GB)\n"
            ]
          },
          "metadata": {},
          "output_type": "display_data"
        },
        {
          "data": {
            "text/html": [
              "<pre style=\"white-space:pre;overflow-x:auto;line-height:normal;font-family:Menlo,'DejaVu Sans Mono',consolas,'Courier New',monospace\"><span style=\"font-weight: bold\"> Trainable params: </span><span style=\"color: #00af00; text-decoration-color: #00af00\">94,585,700</span> (360.82 MB)\n",
              "</pre>\n"
            ],
            "text/plain": [
              "\u001b[1m Trainable params: \u001b[0m\u001b[38;5;34m94,585,700\u001b[0m (360.82 MB)\n"
            ]
          },
          "metadata": {},
          "output_type": "display_data"
        },
        {
          "data": {
            "text/html": [
              "<pre style=\"white-space:pre;overflow-x:auto;line-height:normal;font-family:Menlo,'DejaVu Sans Mono',consolas,'Courier New',monospace\"><span style=\"font-weight: bold\"> Non-trainable params: </span><span style=\"color: #00af00; text-decoration-color: #00af00\">0</span> (0.00 B)\n",
              "</pre>\n"
            ],
            "text/plain": [
              "\u001b[1m Non-trainable params: \u001b[0m\u001b[38;5;34m0\u001b[0m (0.00 B)\n"
            ]
          },
          "metadata": {},
          "output_type": "display_data"
        },
        {
          "data": {
            "text/html": [
              "<pre style=\"white-space:pre;overflow-x:auto;line-height:normal;font-family:Menlo,'DejaVu Sans Mono',consolas,'Courier New',monospace\"><span style=\"font-weight: bold\"> Optimizer params: </span><span style=\"color: #00af00; text-decoration-color: #00af00\">189,171,402</span> (721.63 MB)\n",
              "</pre>\n"
            ],
            "text/plain": [
              "\u001b[1m Optimizer params: \u001b[0m\u001b[38;5;34m189,171,402\u001b[0m (721.63 MB)\n"
            ]
          },
          "metadata": {},
          "output_type": "display_data"
        }
      ],
      "source": [
        "final_model.summary()"
      ]
    },
    {
      "cell_type": "code",
      "execution_count": 39,
      "metadata": {},
      "outputs": [
        {
          "name": "stderr",
          "output_type": "stream",
          "text": [
            "WARNING:absl:Compiled the loaded model, but the compiled metrics have yet to be built. `model.compile_metrics` will be empty until you train or evaluate the model.\n"
          ]
        }
      ],
      "source": [
        "# Load the trained CNN model\n",
        "final_model = load_model('D:/capstone project/severstal-steel-defect-detection.v1i.multiclass/final_model.h5')\n",
        "\n",
        "# Compile the model\n",
        "final_model.compile(optimizer='adam', loss='categorical_crossentropy', metrics=['accuracy'])"
      ]
    }
  ],
  "metadata": {
    "colab": {
      "provenance": []
    },
    "kernelspec": {
      "display_name": "Python 3",
      "name": "python3"
    },
    "language_info": {
      "codemirror_mode": {
        "name": "ipython",
        "version": 3
      },
      "file_extension": ".py",
      "mimetype": "text/x-python",
      "name": "python",
      "nbconvert_exporter": "python",
      "pygments_lexer": "ipython3",
      "version": "3.12.2"
    }
  },
  "nbformat": 4,
  "nbformat_minor": 0
}
